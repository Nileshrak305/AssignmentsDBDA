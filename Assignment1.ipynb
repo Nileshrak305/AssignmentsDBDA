{
  "nbformat": 4,
  "nbformat_minor": 0,
  "metadata": {
    "colab": {
      "provenance": [],
      "authorship_tag": "ABX9TyNOQEktCQXAPbs8pSz/XICy",
      "include_colab_link": true
    },
    "kernelspec": {
      "name": "python3",
      "display_name": "Python 3"
    },
    "language_info": {
      "name": "python"
    }
  },
  "cells": [
    {
      "cell_type": "markdown",
      "metadata": {
        "id": "view-in-github",
        "colab_type": "text"
      },
      "source": [
        "<a href=\"https://colab.research.google.com/github/Nileshrak305/AssignmentsDBDA/blob/main/Assignment1.ipynb\" target=\"_parent\"><img src=\"https://colab.research.google.com/assets/colab-badge.svg\" alt=\"Open In Colab\"/></a>"
      ]
    },
    {
      "cell_type": "markdown",
      "source": [
        "1. Print first **N natural numbers** using a loop."
      ],
      "metadata": {
        "id": "Drn43Kv8Zasw"
      }
    },
    {
      "cell_type": "code",
      "execution_count": null,
      "metadata": {
        "colab": {
          "base_uri": "https://localhost:8080/"
        },
        "id": "xBMEDX0nYcuL",
        "outputId": "f813c055-dc40-4005-90d4-a4893b714d34"
      },
      "outputs": [
        {
          "output_type": "stream",
          "name": "stdout",
          "text": [
            "Enter the Number: 10\n",
            "1\n",
            "2\n",
            "3\n",
            "4\n",
            "5\n",
            "6\n",
            "7\n",
            "8\n",
            "9\n",
            "10\n"
          ]
        }
      ],
      "source": [
        "n = int(input(\"Enter the Number: \"))\n",
        "for i in range(1,n+1):\n",
        "    print (i)\n"
      ]
    },
    {
      "cell_type": "markdown",
      "source": [
        "2. Print first **N even numbers**."
      ],
      "metadata": {
        "id": "WNnnX9DrZdsn"
      }
    },
    {
      "cell_type": "code",
      "source": [
        "n = int(input(\"Enter the Number: \"))\n",
        "for i in range(1,n+1):\n",
        "    if i%2==0:\n",
        "      print(i)"
      ],
      "metadata": {
        "colab": {
          "base_uri": "https://localhost:8080/"
        },
        "id": "jckJ0W-EZHIf",
        "outputId": "a212d1c3-e29c-40a4-8cda-8027e501966a"
      },
      "execution_count": null,
      "outputs": [
        {
          "output_type": "stream",
          "name": "stdout",
          "text": [
            "Enter the Number: 20\n",
            "2\n",
            "4\n",
            "6\n",
            "8\n",
            "10\n",
            "12\n",
            "14\n",
            "16\n",
            "18\n",
            "20\n"
          ]
        }
      ]
    },
    {
      "cell_type": "markdown",
      "source": [
        "3. Print first **N odd numbers**."
      ],
      "metadata": {
        "id": "VHWipOrYZh9l"
      }
    },
    {
      "cell_type": "code",
      "source": [
        "n = int(input(\"Enter the Number: \"))\n",
        "for i in range(1,n+1):\n",
        "    if i%2!=0:\n",
        "      print(i)"
      ],
      "metadata": {
        "colab": {
          "base_uri": "https://localhost:8080/"
        },
        "id": "OaroDAEzZsT6",
        "outputId": "1e733409-f61b-4c96-cee0-f4aef0fab65d"
      },
      "execution_count": null,
      "outputs": [
        {
          "output_type": "stream",
          "name": "stdout",
          "text": [
            "Enter the Number: 20\n",
            "1\n",
            "3\n",
            "5\n",
            "7\n",
            "9\n",
            "11\n",
            "13\n",
            "15\n",
            "17\n",
            "19\n"
          ]
        }
      ]
    },
    {
      "cell_type": "markdown",
      "source": [
        "4. Write a program to calculate **sum of first N natural numbers**."
      ],
      "metadata": {
        "id": "7yRs5b_kZlzN"
      }
    },
    {
      "cell_type": "code",
      "source": [
        "n = int(input(\"Enter the Number: \"))\n",
        "sum=0\n",
        "for i in range(1,n+1):\n",
        "  sum+=i\n",
        "print(sum)\n",
        "\n"
      ],
      "metadata": {
        "colab": {
          "base_uri": "https://localhost:8080/"
        },
        "id": "wQ03gd_NbTEL",
        "outputId": "18d9e6e5-43ca-41b5-ab49-eb0ad1a3c4bc"
      },
      "execution_count": null,
      "outputs": [
        {
          "output_type": "stream",
          "name": "stdout",
          "text": [
            "Enter the Number: 50\n",
            "1275\n"
          ]
        }
      ]
    },
    {
      "cell_type": "markdown",
      "source": [
        "5. Find the **factorial of a number** using a loop."
      ],
      "metadata": {
        "id": "Ccj354ViZp2G"
      }
    },
    {
      "cell_type": "code",
      "source": [
        "n = int(input(\"Enter the Number: \"))\n",
        "factorial=1\n",
        "for i in range(1,n+1):\n",
        "  factorial*=i\n",
        "print(factorial)\n",
        "\n"
      ],
      "metadata": {
        "colab": {
          "base_uri": "https://localhost:8080/"
        },
        "id": "xm1RVlCHburg",
        "outputId": "59686a9e-51e7-4802-8a83-fd4d73c4753d"
      },
      "execution_count": null,
      "outputs": [
        {
          "output_type": "stream",
          "name": "stdout",
          "text": [
            "Enter the Number: 5\n",
            "120\n"
          ]
        }
      ]
    },
    {
      "cell_type": "markdown",
      "source": [
        "6. Print the **Fibonacci series** up to N terms."
      ],
      "metadata": {
        "id": "m8fzX8BVdB-b"
      }
    },
    {
      "cell_type": "code",
      "source": [
        "a=0\n",
        "b=1\n",
        "n = int(input(\"Enter the Number: \"))\n",
        "for i in range(n):\n",
        "  print(a,end=\" \")\n",
        "  next=a+b\n",
        "  a=b\n",
        "  b=next\n",
        "\n"
      ],
      "metadata": {
        "colab": {
          "base_uri": "https://localhost:8080/"
        },
        "id": "CvBDMSvUcZdA",
        "outputId": "21a7bfb2-39b9-43a3-93e5-0cb34b8da9bb"
      },
      "execution_count": null,
      "outputs": [
        {
          "output_type": "stream",
          "name": "stdout",
          "text": [
            "Enter the Number: 10\n",
            "0 1 1 2 3 5 8 13 21 34 "
          ]
        }
      ]
    },
    {
      "cell_type": "markdown",
      "source": [
        "7. Check if a number is a **prime number**."
      ],
      "metadata": {
        "id": "SJkUMd4FZyD9"
      }
    },
    {
      "cell_type": "code",
      "source": [
        "is_prime=False\n",
        "n = int(input(\"Enter the Number: \"))\n",
        "if n==0 or n==1:\n",
        "  print(\"Not a prime number\")\n",
        "else:\n",
        "  for i in range(2,n):\n",
        "    if(n%i==0):\n",
        "      is_prime=True\n",
        "      break\n",
        "\n",
        "  if is_prime:\n",
        "    print(\"Number is Not Prime Number\")\n",
        "  else:\n",
        "    print(\"Number is Prime Number\")\n"
      ],
      "metadata": {
        "colab": {
          "base_uri": "https://localhost:8080/"
        },
        "id": "m5ZCQAZxgZfL",
        "outputId": "01d4e3c4-ecf3-4780-8547-8924728183a3"
      },
      "execution_count": null,
      "outputs": [
        {
          "output_type": "stream",
          "name": "stdout",
          "text": [
            "Enter the Number: 37\n",
            "Number is Prime Number\n"
          ]
        }
      ]
    },
    {
      "cell_type": "markdown",
      "source": [
        "7. Check if a number is a **prime number**."
      ],
      "metadata": {
        "id": "-TQSnrS_Z2FH"
      }
    },
    {
      "cell_type": "code",
      "source": [
        "n = int(input(\"Enter a number: \"))\n",
        "\n",
        "if n > 1:\n",
        "    for i in range(2, n):\n",
        "        if n % i == 0:\n",
        "            print(n, \"is not a prime number.\")\n",
        "            break\n",
        "    else:\n",
        "        print(n, \"is a prime number.\")\n",
        "else:\n",
        "    print(n, \"is not a prime number.\")\n"
      ],
      "metadata": {
        "colab": {
          "base_uri": "https://localhost:8080/"
        },
        "id": "JCJX7UR0n0AG",
        "outputId": "bc9b99b3-45d2-4c58-dac0-a376ec70c0e0"
      },
      "execution_count": null,
      "outputs": [
        {
          "output_type": "stream",
          "name": "stdout",
          "text": [
            "Enter a number: 37\n",
            "37 is a prime number.\n"
          ]
        }
      ]
    },
    {
      "cell_type": "markdown",
      "source": [
        "8. Print all **prime numbers between 1 and 100**."
      ],
      "metadata": {
        "id": "NMe7nv1TaPQ0"
      }
    },
    {
      "cell_type": "code",
      "source": [
        "for i in range(1, 101):\n",
        "    if i > 1:\n",
        "        for j in range(2, i):\n",
        "            if i % j == 0:\n",
        "                break\n",
        "        else:\n",
        "            print(i)\n"
      ],
      "metadata": {
        "colab": {
          "base_uri": "https://localhost:8080/"
        },
        "id": "kbovLAEBFSfp",
        "outputId": "a437a7db-3caf-4fa0-ad16-12bd470f77d4"
      },
      "execution_count": null,
      "outputs": [
        {
          "output_type": "stream",
          "name": "stdout",
          "text": [
            "2\n",
            "3\n",
            "5\n",
            "7\n",
            "11\n",
            "13\n",
            "17\n",
            "19\n",
            "23\n",
            "29\n",
            "31\n",
            "37\n",
            "41\n",
            "43\n",
            "47\n",
            "53\n",
            "59\n",
            "61\n",
            "67\n",
            "71\n",
            "73\n",
            "79\n",
            "83\n",
            "89\n",
            "97\n"
          ]
        }
      ]
    },
    {
      "cell_type": "markdown",
      "source": [
        "9. Count how many **digits are in a number**."
      ],
      "metadata": {
        "id": "EDnoI0qFZ74-"
      }
    },
    {
      "cell_type": "code",
      "source": [
        "a= int(input(\"Enter the Number\"))\n",
        "count=0\n",
        "\n",
        "while a !=0:\n",
        "    a=a//10\n",
        "    count=count+1\n",
        "print(count)"
      ],
      "metadata": {
        "colab": {
          "base_uri": "https://localhost:8080/"
        },
        "id": "jBzaw5YgKUox",
        "outputId": "dac434b7-9e5f-43bd-a680-721baabab24a"
      },
      "execution_count": null,
      "outputs": [
        {
          "output_type": "stream",
          "name": "stdout",
          "text": [
            "Enter the Number1111\n",
            "4\n"
          ]
        }
      ]
    },
    {
      "cell_type": "markdown",
      "source": [
        "10. Reverse the digits of a given number."
      ],
      "metadata": {
        "id": "7whoIPoTZ-nW"
      }
    },
    {
      "cell_type": "code",
      "source": [
        "a= int(input(\"Enter the Number\"))\n",
        "rev=0\n",
        "while a>0:\n",
        "    digit = a % 10\n",
        "    rev = rev * 10 + digit\n",
        "    a //= 10\n",
        "print(rev)"
      ],
      "metadata": {
        "colab": {
          "base_uri": "https://localhost:8080/"
        },
        "id": "nJ4z8VPmKXV5",
        "outputId": "cd6d096e-c888-45b7-f0dc-733c0d36f9b5"
      },
      "execution_count": null,
      "outputs": [
        {
          "output_type": "stream",
          "name": "stdout",
          "text": [
            "Enter the Number123\n",
            "321\n"
          ]
        }
      ]
    },
    {
      "cell_type": "markdown",
      "source": [
        "14. Write a program to print numbers **divisible by 5** between 1 and 50."
      ],
      "metadata": {
        "id": "WDsDF3OoeZ_b"
      }
    },
    {
      "cell_type": "code",
      "source": [
        "for i in range(1,51):\n",
        "  if i%5==0:\n",
        "    print(i)\n"
      ],
      "metadata": {
        "colab": {
          "base_uri": "https://localhost:8080/"
        },
        "id": "YypFZJLeap0d",
        "outputId": "6a081068-ff35-4a9c-f9b3-9de2444e648a"
      },
      "execution_count": null,
      "outputs": [
        {
          "output_type": "stream",
          "name": "stdout",
          "text": [
            "5\n",
            "10\n",
            "15\n",
            "20\n",
            "25\n",
            "30\n",
            "35\n",
            "40\n",
            "45\n",
            "50\n"
          ]
        }
      ]
    },
    {
      "cell_type": "markdown",
      "source": [
        "13. Print the **square** of numbers from 1 to 10"
      ],
      "metadata": {
        "id": "WaFFaDjwfNw7"
      }
    },
    {
      "cell_type": "code",
      "source": [
        "for i in range(1,11):\n",
        "    print(i**2)"
      ],
      "metadata": {
        "colab": {
          "base_uri": "https://localhost:8080/"
        },
        "id": "VhcZDArYd-mk",
        "outputId": "b284d281-6028-4e7e-800d-bed6ca6fbebe"
      },
      "execution_count": null,
      "outputs": [
        {
          "output_type": "stream",
          "name": "stdout",
          "text": [
            "1\n",
            "4\n",
            "9\n",
            "16\n",
            "25\n",
            "36\n",
            "49\n",
            "64\n",
            "81\n",
            "100\n"
          ]
        }
      ]
    },
    {
      "cell_type": "markdown",
      "source": [
        "11. Check if a number is a **palindrome**"
      ],
      "metadata": {
        "id": "nfXtbdk8SNsz"
      }
    },
    {
      "cell_type": "code",
      "source": [
        "a= int(input(\"Enter the Number: \"))\n",
        "t=a\n",
        "rev=0\n",
        "while a>0:\n",
        "    digit = a % 10\n",
        "    rev = rev * 10 + digit\n",
        "    a //= 10\n",
        "if rev==t:\n",
        "  print(\"Its Palindrome\")\n",
        "else:\n",
        "  print(\"Its Not Palindome\")"
      ],
      "metadata": {
        "id": "jxP-IbDne0Oj",
        "colab": {
          "base_uri": "https://localhost:8080/"
        },
        "outputId": "f7167459-f115-40bd-9ed9-25cfb4aed7ae"
      },
      "execution_count": 6,
      "outputs": [
        {
          "output_type": "stream",
          "name": "stdout",
          "text": [
            "Enter the Number: 121\n",
            "Its Palindrome\n"
          ]
        }
      ]
    },
    {
      "cell_type": "code",
      "source": [],
      "metadata": {
        "id": "OF3rLEmCSi_5"
      },
      "execution_count": null,
      "outputs": []
    }
  ]
}