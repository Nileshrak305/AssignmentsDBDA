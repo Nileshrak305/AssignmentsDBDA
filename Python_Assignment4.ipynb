{
  "nbformat": 4,
  "nbformat_minor": 0,
  "metadata": {
    "colab": {
      "provenance": [],
      "authorship_tag": "ABX9TyNuj38IBH6Pd7FRGBLIjKKb",
      "include_colab_link": true
    },
    "kernelspec": {
      "name": "python3",
      "display_name": "Python 3"
    },
    "language_info": {
      "name": "python"
    }
  },
  "cells": [
    {
      "cell_type": "markdown",
      "metadata": {
        "id": "view-in-github",
        "colab_type": "text"
      },
      "source": [
        "<a href=\"https://colab.research.google.com/github/Nileshrak305/AssignmentsDBDA/blob/main/Python_Assignment4.ipynb\" target=\"_parent\"><img src=\"https://colab.research.google.com/assets/colab-badge.svg\" alt=\"Open In Colab\"/></a>"
      ]
    },
    {
      "cell_type": "markdown",
      "source": [
        "1. Write a function to return maximum of three numbers."
      ],
      "metadata": {
        "id": "1anLBgEm2q_W"
      }
    },
    {
      "cell_type": "code",
      "execution_count": null,
      "metadata": {
        "colab": {
          "base_uri": "https://localhost:8080/"
        },
        "id": "f-qX8y9q2qji",
        "outputId": "6e9e9c8b-295e-45e6-f1f1-f0706a07ec2d"
      },
      "outputs": [
        {
          "output_type": "stream",
          "name": "stdout",
          "text": [
            "Maximum Is:  77\n"
          ]
        }
      ],
      "source": [
        "def maxnum(a,b,c):\n",
        "  if a>b and a>c:\n",
        "    return a\n",
        "  elif b>a and b>c:\n",
        "    return b\n",
        "  else:\n",
        "    return c\n",
        "print(\"Maximum Is: \",maxnum(15,77,61))"
      ]
    },
    {
      "cell_type": "markdown",
      "source": [
        "2. Write a function to check whether a number is prime."
      ],
      "metadata": {
        "id": "ibMvT1Ch5xMC"
      }
    },
    {
      "cell_type": "code",
      "source": [
        "def prime(a):\n",
        "  for i in range(2,a):\n",
        "    if a%i==0:\n",
        "      print(\"Number is not Prime\")\n",
        "      break\n",
        "\n",
        "  else:\n",
        "    print(\"Number is Prime\")\n",
        "print(prime(11))\n"
      ],
      "metadata": {
        "colab": {
          "base_uri": "https://localhost:8080/"
        },
        "id": "9kvTRZ4d5Cpb",
        "outputId": "c9ac9950-15ec-457d-b7d7-cd1620d99411"
      },
      "execution_count": null,
      "outputs": [
        {
          "output_type": "stream",
          "name": "stdout",
          "text": [
            "Number is Prime\n",
            "None\n"
          ]
        }
      ]
    },
    {
      "cell_type": "markdown",
      "source": [
        "3. Write a function for Fibonacci series up to `n`."
      ],
      "metadata": {
        "id": "U3GZyGBfMzNp"
      }
    },
    {
      "cell_type": "code",
      "source": [
        "def fibo(n):\n",
        "  a=0\n",
        "  b=1\n",
        "  for i in range(n):\n",
        "    print(a, end=\" \")\n",
        "    a,b=b,b+a\n",
        "fibo(10)"
      ],
      "metadata": {
        "colab": {
          "base_uri": "https://localhost:8080/"
        },
        "id": "YPX4uZZK6hud",
        "outputId": "4d99e87a-1446-463f-dad9-77555e2cda44"
      },
      "execution_count": null,
      "outputs": [
        {
          "output_type": "stream",
          "name": "stdout",
          "text": [
            "0 1 1 2 3 5 8 13 21 34 "
          ]
        }
      ]
    },
    {
      "cell_type": "markdown",
      "source": [],
      "metadata": {
        "id": "KfK7SDWUOrJ2"
      }
    },
    {
      "cell_type": "markdown",
      "source": [
        "4. Write a program using `map()` to convert list of Celsius temperatures into Fahrenheit.\n",
        "formula:(°F) = ((°C) * 9/5) + 32"
      ],
      "metadata": {
        "id": "QKvTwzuhOYoS"
      }
    },
    {
      "cell_type": "code",
      "source": [
        "temp=[31.1,42.6,23.5,48,2]\n",
        "fahren=list(map(lambda x:(x*9/5)+32, temp))\n",
        "print(fahren)"
      ],
      "metadata": {
        "colab": {
          "base_uri": "https://localhost:8080/"
        },
        "id": "eT2_RHb47h-L",
        "outputId": "b877841a-70fb-4cb7-a0c8-5456e6a559fe"
      },
      "execution_count": null,
      "outputs": [
        {
          "output_type": "stream",
          "name": "stdout",
          "text": [
            "[87.98, 108.68, 74.3, 118.4, 35.6]\n"
          ]
        }
      ]
    },
    {
      "cell_type": "markdown",
      "source": [
        "5. Write a program using `filter()` to remove empty strings from a list."
      ],
      "metadata": {
        "id": "8znQ385LQpd0"
      }
    },
    {
      "cell_type": "code",
      "source": [
        "l1=[\"Nilesh\", \"Bhavya\",\"\", \"Nishant\",\"\", \"Ganesh\"]\n",
        "l2=list(filter(lambda x:x!=\"\",l1))\n",
        "print(l2)"
      ],
      "metadata": {
        "colab": {
          "base_uri": "https://localhost:8080/"
        },
        "id": "bUwRTk6UQGZx",
        "outputId": "9f2eb9fe-f412-4998-9a7b-6fba4c9f345a"
      },
      "execution_count": null,
      "outputs": [
        {
          "output_type": "stream",
          "name": "stdout",
          "text": [
            "['Nilesh', 'Bhavya', 'Nishant', 'Ganesh']\n"
          ]
        }
      ]
    },
    {
      "cell_type": "markdown",
      "source": [
        "6. Write a program using `reduce()` to find GCD of a list of numbers."
      ],
      "metadata": {
        "id": "hQQ6RhWyRS1t"
      }
    },
    {
      "cell_type": "code",
      "source": [
        "import math\n",
        "from functools import reduce\n",
        "l1=[4,16,24]\n",
        "l2=reduce(math.gcd,l1)\n",
        "print(l2)"
      ],
      "metadata": {
        "colab": {
          "base_uri": "https://localhost:8080/"
        },
        "id": "VoNuqrUbRLuH",
        "outputId": "04f8a74c-742c-4352-cca6-1e577b39f182"
      },
      "execution_count": null,
      "outputs": [
        {
          "output_type": "stream",
          "name": "stdout",
          "text": [
            "4\n"
          ]
        }
      ]
    },
    {
      "cell_type": "markdown",
      "source": [
        "7. Write a function to implement (encrypt + decrypt)."
      ],
      "metadata": {
        "id": "QggJxbrHRR-e"
      }
    },
    {
      "cell_type": "code",
      "source": [
        "def encrypt(s):\n",
        "  encrytionMethod = str.maketrans(\"ABCDEFGHIJKLMNOPQRSTUVWXYZabcdefghijklmnopqrstuvwxyz\", \"zyxwvutsrqponmlkjihgfedcbaXYZABCDEFGHIJKLMNOPQRSTUVW\")\n",
        "  ourmsg=s.translate(encrytionMethod)\n",
        "  return \"Your Encrypted Msg is\", ourmsg\n",
        "def decrypt(s):\n",
        "  decryptMethod = str.maketrans(\"zyxwvutsrqponmlkjihgfedcbaXYZABCDEFGHIJKLMNOPQRSTUVW\", \"ABCDEFGHIJKLMNOPQRSTUVWXYZabcdefghijklmnopqrstuvwxyz\")\n",
        "  ourmsg=s.translate(decryptMethod)\n",
        "  return \"Your Decrypted Msg is\", ourmsg\n",
        "\n",
        "print(encrypt(\"Nilesh\"))\n",
        "print(decrypt(\"mFIBPE\"))"
      ],
      "metadata": {
        "colab": {
          "base_uri": "https://localhost:8080/"
        },
        "id": "vQYj2pDAUsqG",
        "outputId": "8f4267be-3478-4761-e2a5-0c93833542c1"
      },
      "execution_count": null,
      "outputs": [
        {
          "output_type": "stream",
          "name": "stdout",
          "text": [
            "('Your Encrypted Msg is', 'mFIBPE')\n",
            "('Your Decrypted Msg is', 'Nilesh')\n"
          ]
        }
      ]
    },
    {
      "cell_type": "markdown",
      "source": [
        "8. Write a program that uses `map` + `lambda` to compute length of each word in a sentence."
      ],
      "metadata": {
        "id": "tpX9Hjp_YpJa"
      }
    },
    {
      "cell_type": "code",
      "source": [
        "sentense=\"Nilesh Rakhade \"\n",
        "word=sentense.split()\n",
        "count=list(map(lambda x:len(x), word))\n",
        "print(count)\n",
        "\n",
        "\n"
      ],
      "metadata": {
        "colab": {
          "base_uri": "https://localhost:8080/"
        },
        "id": "iP5QNrkTXElz",
        "outputId": "33bc7a5c-fec2-410f-c842-a5044d7df311"
      },
      "execution_count": null,
      "outputs": [
        {
          "output_type": "stream",
          "name": "stdout",
          "text": [
            "[6, 7]\n"
          ]
        }
      ]
    },
    {
      "cell_type": "markdown",
      "source": [
        "9. Write a program to filter palindromes from a list of words."
      ],
      "metadata": {
        "id": "fZWC5zFq7U6G"
      }
    },
    {
      "cell_type": "code",
      "source": [
        "palin=[\"Nilesh\",\"Nitin\", \"MAAM\", \"NITIN\"]\n",
        "palind=list(filter(lambda x:x==x[::-1],palin))\n",
        "print(palind)"
      ],
      "metadata": {
        "id": "pNyiahVFmNMa",
        "colab": {
          "base_uri": "https://localhost:8080/"
        },
        "outputId": "4790bc8d-a451-426b-95f7-9b38940cd2ed"
      },
      "execution_count": null,
      "outputs": [
        {
          "output_type": "stream",
          "name": "stdout",
          "text": [
            "['MAAM', 'NITIN']\n"
          ]
        }
      ]
    },
    {
      "cell_type": "markdown",
      "source": [
        "10. Write a program using `reduce()` to find the longest word in a list."
      ],
      "metadata": {
        "id": "nYAEUvQr-FmH"
      }
    },
    {
      "cell_type": "code",
      "source": [
        "words=[\"Nilesh\",\"NitinTRIPATI\", \"MAAM\", \"NITIN\"]\n",
        "longword=reduce(lambda x,y:x if len(x)> len(y) else y,words)\n",
        "print(longword)"
      ],
      "metadata": {
        "colab": {
          "base_uri": "https://localhost:8080/"
        },
        "id": "_INpBcAZ-IXo",
        "outputId": "7c81021c-4b38-4c8d-a871-4ec6106f16f7"
      },
      "execution_count": null,
      "outputs": [
        {
          "output_type": "stream",
          "name": "stdout",
          "text": [
            "NitinTRIPATI\n"
          ]
        }
      ]
    },
    {
      "cell_type": "markdown",
      "source": [
        "1. Write a program that demonstrates difference between shallow copy & deep copy in functions."
      ],
      "metadata": {
        "id": "IVhOoPmk_4-B"
      }
    },
    {
      "cell_type": "code",
      "source": [
        "import copy\n",
        "print(\"==== Shallow Copy  =====\")\n",
        "a = [[1, 2], [3, 4]]\n",
        "b = copy.copy(a)\n",
        "b[0][0] = 99\n",
        "print(\"Original (a):\", a)\n",
        "print(\"Shallow Copy (b):\", b)\n",
        "\n",
        "print(\"\\n==== Deep Copy  =====\")\n",
        "c = [[1, 2], [3, 4]]\n",
        "d = copy.deepcopy(c)\n",
        "\n",
        "d[0][0] = 99\n",
        "\n",
        "print(\"Original (c):\", c)\n",
        "print(\"Deep Copy (d):\", d)\n"
      ],
      "metadata": {
        "colab": {
          "base_uri": "https://localhost:8080/"
        },
        "id": "4pySkmxB-xTL",
        "outputId": "6f729833-070a-49aa-bc7d-737ff4c57c92"
      },
      "execution_count": 1,
      "outputs": [
        {
          "output_type": "stream",
          "name": "stdout",
          "text": [
            "==== Shallow Copy  =====\n",
            "Original (a): [[99, 2], [3, 4]]\n",
            "Shallow Copy (b): [[99, 2], [3, 4]]\n",
            "\n",
            "==== Deep Copy  =====\n",
            "Original (c): [[1, 2], [3, 4]]\n",
            "Deep Copy (d): [[99, 2], [3, 4]]\n"
          ]
        }
      ]
    },
    {
      "cell_type": "markdown",
      "source": [
        "12. Write a function that takes student marks from a dictionary and returns a new dict with grades (A/B/C)."
      ],
      "metadata": {
        "id": "_7hSC-8iFmsh"
      }
    },
    {
      "cell_type": "code",
      "source": [
        "def sgrades(marks_dict):\n",
        "    grades = {}\n",
        "    for student, marks in marks_dict.items():\n",
        "        if marks >= 80:\n",
        "            grades[student] = 'A'\n",
        "        elif marks >= 60:\n",
        "            grades[student] = 'B'\n",
        "        else:\n",
        "            grades[student] = 'C'\n",
        "    return grades\n",
        "\n",
        "students = {'Bhavya': 85, 'Nilesh': 72, 'Ganesh': 58}\n",
        "print(sgrades(students))"
      ],
      "metadata": {
        "colab": {
          "base_uri": "https://localhost:8080/"
        },
        "id": "nmVjAGb3BWxp",
        "outputId": "60a67989-30be-4729-f70f-0590230b2d97"
      },
      "execution_count": null,
      "outputs": [
        {
          "output_type": "stream",
          "name": "stdout",
          "text": [
            "{'Bhavya': 'A', 'Nilesh': 'B', 'Ganesh': 'C'}\n"
          ]
        }
      ]
    },
    {
      "cell_type": "code",
      "source": [
        "a={\"Bhavya\":\"looser\"}\n",
        "a[\"Bhavya\"]=\"TOpper\"\n",
        "print(a)"
      ],
      "metadata": {
        "colab": {
          "base_uri": "https://localhost:8080/"
        },
        "id": "1cPjORy4KcOu",
        "outputId": "5bf6f3b9-2ceb-4332-cd9c-5e16b2571672"
      },
      "execution_count": null,
      "outputs": [
        {
          "output_type": "stream",
          "name": "stdout",
          "text": [
            "{'Bhavya': 'TOpper'}\n"
          ]
        }
      ]
    },
    {
      "cell_type": "markdown",
      "source": [
        "13. Write a program that simulates a calculator (add, subtract, multiply, divide) using functions."
      ],
      "metadata": {
        "id": "LzWgJe6UII83"
      }
    },
    {
      "cell_type": "code",
      "source": [
        "def add(x, y):\n",
        "    return x + y\n",
        "def subtract(x, y):\n",
        "    return x - y\n",
        "def multiply(x, y):\n",
        "    return x * y\n",
        "def divide(x, y):\n",
        "    if y == 0:\n",
        "        return \"Error: Division by zero\"\n",
        "    return x / y\n",
        "print(\"Add:\", add(10, 5))\n",
        "print(\"Subtract:\", subtract(10, 5))\n",
        "print(\"Multiply:\", multiply(10, 5))\n",
        "print(\"Divide:\", divide(10, 5))\n"
      ],
      "metadata": {
        "colab": {
          "base_uri": "https://localhost:8080/"
        },
        "id": "sIAqqzVrHIao",
        "outputId": "991d755c-b954-4a65-c835-ed00bfbc7a9d"
      },
      "execution_count": null,
      "outputs": [
        {
          "output_type": "stream",
          "name": "stdout",
          "text": [
            "Add: 15\n",
            "Subtract: 5\n",
            "Multiply: 50\n",
            "Divide: 2.0\n"
          ]
        }
      ]
    },
    {
      "cell_type": "markdown",
      "source": [
        "14. Write a function that counts the digits of a number."
      ],
      "metadata": {
        "id": "n81dzfUjIecE"
      }
    },
    {
      "cell_type": "code",
      "source": [
        "def count_digits(num):\n",
        "    return len(str(num))\n",
        "print(count_digits(12345))\n",
        "print(count_digits(987))\n"
      ],
      "metadata": {
        "colab": {
          "base_uri": "https://localhost:8080/"
        },
        "id": "LGRwSJfDIHt2",
        "outputId": "2f67329e-393b-4b82-e556-96c68e36d1f6"
      },
      "execution_count": null,
      "outputs": [
        {
          "output_type": "stream",
          "name": "stdout",
          "text": [
            "4\n"
          ]
        }
      ]
    },
    {
      "cell_type": "markdown",
      "source": [
        "15. Write a function to check if a string is palindrome."
      ],
      "metadata": {
        "id": "Ke-E8wWBIh09"
      }
    },
    {
      "cell_type": "code",
      "source": [
        "def is_palindrome(s):\n",
        "    s = s.lower()\n",
        "    return s == s[::-1]\n",
        "print(is_palindrome(\"madam\"))\n",
        "print(is_palindrome(\"Hello\"))\n",
        "print(is_palindrome(\"RaceCar\"))\n"
      ],
      "metadata": {
        "colab": {
          "base_uri": "https://localhost:8080/"
        },
        "id": "eXphNsEZIiWl",
        "outputId": "c21e192a-ada4-414f-a753-cb017b4aab2e"
      },
      "execution_count": null,
      "outputs": [
        {
          "output_type": "stream",
          "name": "stdout",
          "text": [
            "True\n",
            "False\n",
            "True\n"
          ]
        }
      ]
    },
    {
      "cell_type": "code",
      "source": [],
      "metadata": {
        "colab": {
          "base_uri": "https://localhost:8080/"
        },
        "id": "cOLjC1JXJaMc",
        "outputId": "94962ac4-0db2-4ed9-b389-52d49577bf4c"
      },
      "execution_count": null,
      "outputs": [
        {
          "output_type": "stream",
          "name": "stdout",
          "text": [
            "{'Bhavya': 'TOpper'}\n"
          ]
        }
      ]
    },
    {
      "cell_type": "code",
      "source": [],
      "metadata": {
        "id": "piJZScb4JmH-"
      },
      "execution_count": null,
      "outputs": []
    }
  ]
}