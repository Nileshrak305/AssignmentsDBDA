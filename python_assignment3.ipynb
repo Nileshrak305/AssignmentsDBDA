{
  "nbformat": 4,
  "nbformat_minor": 0,
  "metadata": {
    "colab": {
      "provenance": [],
      "authorship_tag": "ABX9TyPRqh4cpJXVy/yuRSwe4SUO",
      "include_colab_link": true
    },
    "kernelspec": {
      "name": "python3",
      "display_name": "Python 3"
    },
    "language_info": {
      "name": "python"
    }
  },
  "cells": [
    {
      "cell_type": "markdown",
      "metadata": {
        "id": "view-in-github",
        "colab_type": "text"
      },
      "source": [
        "<a href=\"https://colab.research.google.com/github/Nileshrak305/AssignmentsDBDA/blob/main/python_assignment3.ipynb\" target=\"_parent\"><img src=\"https://colab.research.google.com/assets/colab-badge.svg\" alt=\"Open In Colab\"/></a>"
      ]
    },
    {
      "cell_type": "markdown",
      "source": [
        "1. Write a program to input 10 integers from user and store in a list. Print them."
      ],
      "metadata": {
        "id": "yAQNZIF33k6m"
      }
    },
    {
      "cell_type": "code",
      "execution_count": 1,
      "metadata": {
        "colab": {
          "base_uri": "https://localhost:8080/"
        },
        "id": "iNug11WV3bQX",
        "outputId": "9010eb50-78e9-4727-eb97-7c0ff8cc3fa1"
      },
      "outputs": [
        {
          "output_type": "stream",
          "name": "stdout",
          "text": [
            "ENTER NUMBER2\n",
            "ENTER NUMBER1\n",
            "ENTER NUMBER5\n",
            "ENTER NUMBER6\n",
            "ENTER NUMBER8\n",
            "ENTER NUMBER6\n",
            "ENTER NUMBER2\n",
            "ENTER NUMBER4\n",
            "ENTER NUMBER1\n",
            "ENTER NUMBER5\n",
            "[2, 1, 5, 6, 8, 6, 2, 4, 1, 5]\n"
          ]
        }
      ],
      "source": [
        "l1=[]\n",
        "for i in range(10):\n",
        "  a=int(input(\"ENTER NUMBER\"))\n",
        "  l1.append(a)\n",
        "\n",
        "print(l1)\n",
        "\n"
      ]
    },
    {
      "cell_type": "markdown",
      "source": [
        "2. Find common elements between two lists."
      ],
      "metadata": {
        "id": "nzompex35Gr4"
      }
    },
    {
      "cell_type": "code",
      "source": [
        "l1=[1,2,3,4,5]\n",
        "l2=[4,5,2,7,1]\n",
        "l3=[]\n",
        "for i in l1:\n",
        "  if i in l2:\n",
        "    l3.append(i)\n",
        "print(l3)"
      ],
      "metadata": {
        "colab": {
          "base_uri": "https://localhost:8080/"
        },
        "id": "tgzZnhUw4cfA",
        "outputId": "061b3227-ffe6-46db-c171-256e5af38e1d"
      },
      "execution_count": null,
      "outputs": [
        {
          "output_type": "stream",
          "name": "stdout",
          "text": [
            "[1, 2, 4, 5]\n"
          ]
        }
      ]
    },
    {
      "cell_type": "markdown",
      "source": [
        "3. Write a program to remove all even numbers from a list.\n"
      ],
      "metadata": {
        "id": "QD8ICkdN627g"
      }
    },
    {
      "cell_type": "code",
      "source": [
        "l1=[1,2,3,4,5,67,8]\n",
        "print([x for x in l1 if x%2==0])\n"
      ],
      "metadata": {
        "colab": {
          "base_uri": "https://localhost:8080/"
        },
        "id": "l-FCWNX567I3",
        "outputId": "13655195-cf9d-4765-8d49-9fb4030f92b8"
      },
      "execution_count": null,
      "outputs": [
        {
          "output_type": "stream",
          "name": "stdout",
          "text": [
            "[2, 4, 8]\n"
          ]
        }
      ]
    },
    {
      "cell_type": "markdown",
      "source": [
        "4. Write a program to concatenate list of strings into one string."
      ],
      "metadata": {
        "id": "M60EBY8i8Ihc"
      }
    },
    {
      "cell_type": "code",
      "source": [
        "l1=[\"abc\",\"b\",\"c\"]\n",
        "l2=\"\".join(l1)\n",
        "print(l2)"
      ],
      "metadata": {
        "colab": {
          "base_uri": "https://localhost:8080/"
        },
        "id": "_WmhZqfA8Jr8",
        "outputId": "a8b81b41-85ee-4ef3-c10d-0d008015e2c4"
      },
      "execution_count": null,
      "outputs": [
        {
          "output_type": "stream",
          "name": "stdout",
          "text": [
            "abcbc\n"
          ]
        }
      ]
    },
    {
      "cell_type": "markdown",
      "source": [
        "5. Flatten a nested list (e.g., `[[1,2],[3,4],[5]] → [1,2,3,4,5]`)."
      ],
      "metadata": {
        "id": "NpChlcQh92w8"
      }
    },
    {
      "cell_type": "code",
      "source": [
        "emp=[]\n",
        "l1=[[1,2],[3,4],[5]]\n",
        "for i in l1:\n",
        "  for j in i:\n",
        "    emp.append(j)\n",
        "print(emp)\n"
      ],
      "metadata": {
        "colab": {
          "base_uri": "https://localhost:8080/"
        },
        "id": "FXZ3_PP594-S",
        "outputId": "a46fa40f-0ba2-49c5-9947-81d8a8c421a0"
      },
      "execution_count": null,
      "outputs": [
        {
          "output_type": "stream",
          "name": "stdout",
          "text": [
            "[1, 2, 3, 4, 5]\n"
          ]
        }
      ]
    },
    {
      "cell_type": "markdown",
      "source": [
        "6. Write a program to generate a list of first 10 Fibonacci numbers."
      ],
      "metadata": {
        "id": "llGc7Xjt96RK"
      }
    },
    {
      "cell_type": "code",
      "source": [
        "a= 0\n",
        "b= 1\n",
        "for i in range(10):\n",
        "  print(a,end=\" \")\n",
        "  c=a+b\n",
        "  a=b\n",
        "  b=c\n",
        "print(c)\n",
        "\n",
        "# a= 0\n",
        "# b= 1\n",
        "# for i in range(10):\n",
        "#   print(a,end=\" \")\n",
        "#   a,b=b,b+a"
      ],
      "metadata": {
        "colab": {
          "base_uri": "https://localhost:8080/"
        },
        "id": "bzuujZ9K6Z42",
        "outputId": "5c81a331-8638-45b5-f2f0-10622aa67341"
      },
      "execution_count": null,
      "outputs": [
        {
          "output_type": "stream",
          "name": "stdout",
          "text": [
            "0 1 1 2 3 5 8 13 21 34 89\n"
          ]
        }
      ]
    },
    {
      "cell_type": "markdown",
      "source": [
        "7. Write a program to count vowels in a given string and store results in a dictionary."
      ],
      "metadata": {
        "id": "tGL0NGDiGnaD"
      }
    },
    {
      "cell_type": "code",
      "source": [
        "a=\"Mathematics\"\n",
        "count=0\n",
        "for i in a:\n",
        "  if i in \"aeiou\":\n",
        "    count=count+1\n",
        "print(count)\n",
        "\n",
        "# a={i:i**2 for i in range(6)}\n",
        "# print(a)\n"
      ],
      "metadata": {
        "colab": {
          "base_uri": "https://localhost:8080/"
        },
        "id": "tMabtU_pCl-w",
        "outputId": "c7008748-e1f7-4b4d-9d57-eb912c05100d"
      },
      "execution_count": null,
      "outputs": [
        {
          "output_type": "stream",
          "name": "stdout",
          "text": [
            "4\n"
          ]
        }
      ]
    },
    {
      "cell_type": "code",
      "source": [
        "a = \"Mathematics\"\n",
        "vowels = \"aeiouAEIOU\"\n",
        "dic = {}\n",
        "for v in a:\n",
        "    if v in vowels:\n",
        "        if v in dic:\n",
        "            dic[v] += 1\n",
        "        else:\n",
        "            dic[v] = 1\n",
        "print(dic)\n",
        "\n",
        "\n"
      ],
      "metadata": {
        "colab": {
          "base_uri": "https://localhost:8080/"
        },
        "id": "r8AVKPNWW07x",
        "outputId": "6cfa9f94-a064-416f-9377-95b8c1b9d60e"
      },
      "execution_count": 6,
      "outputs": [
        {
          "output_type": "stream",
          "name": "stdout",
          "text": [
            "{'a': 2, 'e': 1, 'i': 1}\n"
          ]
        }
      ]
    },
    {
      "cell_type": "markdown",
      "source": [
        "8. Write a program to find union and intersection of two lists using sets."
      ],
      "metadata": {
        "id": "YoRtxfDRWWtH"
      }
    },
    {
      "cell_type": "code",
      "source": [
        "l1=[1,2,3,4]\n",
        "l2=[3,4,5,6]\n",
        "print(\"Union:\",set(l1) & set(l2))\n",
        "print(\"Intersection:\",set(l1) | set(l2))\n"
      ],
      "metadata": {
        "id": "TYdeLVjWNPVu",
        "colab": {
          "base_uri": "https://localhost:8080/"
        },
        "outputId": "c37ea9b1-e572-48a5-8ae9-ac6bbfab8755"
      },
      "execution_count": 10,
      "outputs": [
        {
          "output_type": "stream",
          "name": "stdout",
          "text": [
            "Union: {3, 4}\n",
            "Intersection: {1, 2, 3, 4, 5, 6}\n"
          ]
        }
      ]
    },
    {
      "cell_type": "markdown",
      "source": [
        "9. Write a program to check if a list is palindrome."
      ],
      "metadata": {
        "id": "dEVrD45TlxgN"
      }
    },
    {
      "cell_type": "code",
      "source": [
        "l1=[1,2,5,2,1]\n",
        "if l1 ==l1[::-1]:\n",
        "  print(\"Its Palindrome\")\n",
        "else:\n",
        "  print(\"Its not Palindrome\")"
      ],
      "metadata": {
        "id": "dtxwm56PHC_O",
        "colab": {
          "base_uri": "https://localhost:8080/"
        },
        "outputId": "911467ed-f8ec-4aa8-8628-81d0c81bfca0"
      },
      "execution_count": 17,
      "outputs": [
        {
          "output_type": "stream",
          "name": "stdout",
          "text": [
            "Its Palindrome\n"
          ]
        }
      ]
    },
    {
      "cell_type": "markdown",
      "source": [
        "10. Write a program to remove all duplicates from a list without using `set()`."
      ],
      "metadata": {
        "id": "8SEloHBOpWqT"
      }
    },
    {
      "cell_type": "code",
      "source": [
        "li= [1,2,2,5,6,4,7,8,9,9]\n",
        "l2=[]\n",
        "for x in li:\n",
        "  if x not in l2:\n",
        "    l2.append(x)\n",
        "print(l2)"
      ],
      "metadata": {
        "colab": {
          "base_uri": "https://localhost:8080/"
        },
        "id": "dJ3mGzp1pxQ-",
        "outputId": "0f8a9eb7-9acf-4b5c-e5bc-4f085d27672d"
      },
      "execution_count": 18,
      "outputs": [
        {
          "output_type": "stream",
          "name": "stdout",
          "text": [
            "[1, 2, 5, 6, 4, 7, 8, 9]\n"
          ]
        }
      ]
    },
    {
      "cell_type": "markdown",
      "source": [
        "11. Write a program to filter dictionary by keeping only items where value > 50."
      ],
      "metadata": {
        "id": "BgEDfChyuph2"
      }
    },
    {
      "cell_type": "code",
      "source": [
        "marks={\"English\":49, \"Maths\": 51, \"Science\":50, \"Hindi\": 52 }\n",
        "for i in marks:\n",
        "  if marks[i] >50:\n",
        "    print(i)"
      ],
      "metadata": {
        "colab": {
          "base_uri": "https://localhost:8080/"
        },
        "id": "YJd5o8Z_mWm3",
        "outputId": "4d550b16-592b-4327-efc8-c9f1a09f9391"
      },
      "execution_count": 27,
      "outputs": [
        {
          "output_type": "stream",
          "name": "stdout",
          "text": [
            "Maths\n",
            "Hindi\n"
          ]
        }
      ]
    },
    {
      "cell_type": "markdown",
      "source": [
        "12. Write a program to count frequency of words in a sentence (word → count dictionary)."
      ],
      "metadata": {
        "id": "H1Q45J12x-XK"
      }
    },
    {
      "cell_type": "code",
      "source": [
        "a = \"Python is Very easy, python is powerful\"\n",
        "n = sentence.replace(\".\", \"\").lower()\n",
        "words=n.split()\n",
        "dic = {}\n",
        "for word in words:\n",
        "    if word in words:\n",
        "        dic[word] += 1\n",
        "    else:\n",
        "        dic[word] = 1\n",
        "\n",
        "print(\"Word → Count Dictionary:\")\n",
        "print(dic)\n"
      ],
      "metadata": {
        "colab": {
          "base_uri": "https://localhost:8080/",
          "height": 211
        },
        "id": "lquSqva_xiM9",
        "outputId": "2b90f392-53f5-465e-d730-315afb1f7ed6"
      },
      "execution_count": 33,
      "outputs": [
        {
          "output_type": "error",
          "ename": "NameError",
          "evalue": "name 'sentence' is not defined",
          "traceback": [
            "\u001b[0;31m---------------------------------------------------------------------------\u001b[0m",
            "\u001b[0;31mNameError\u001b[0m                                 Traceback (most recent call last)",
            "\u001b[0;32m/tmp/ipython-input-1954927797.py\u001b[0m in \u001b[0;36m<cell line: 0>\u001b[0;34m()\u001b[0m\n\u001b[1;32m      1\u001b[0m \u001b[0ma\u001b[0m \u001b[0;34m=\u001b[0m \u001b[0;34m\"Python is Very easy, python is powerful\"\u001b[0m\u001b[0;34m\u001b[0m\u001b[0;34m\u001b[0m\u001b[0m\n\u001b[0;32m----> 2\u001b[0;31m \u001b[0mn\u001b[0m \u001b[0;34m=\u001b[0m \u001b[0msentence\u001b[0m\u001b[0;34m.\u001b[0m\u001b[0mreplace\u001b[0m\u001b[0;34m(\u001b[0m\u001b[0;34m\".\"\u001b[0m\u001b[0;34m,\u001b[0m \u001b[0;34m\"\"\u001b[0m\u001b[0;34m)\u001b[0m\u001b[0;34m.\u001b[0m\u001b[0mlower\u001b[0m\u001b[0;34m(\u001b[0m\u001b[0;34m)\u001b[0m\u001b[0;34m\u001b[0m\u001b[0;34m\u001b[0m\u001b[0m\n\u001b[0m\u001b[1;32m      3\u001b[0m \u001b[0mwords\u001b[0m\u001b[0;34m=\u001b[0m\u001b[0mn\u001b[0m\u001b[0;34m.\u001b[0m\u001b[0msplit\u001b[0m\u001b[0;34m(\u001b[0m\u001b[0;34m)\u001b[0m\u001b[0;34m\u001b[0m\u001b[0;34m\u001b[0m\u001b[0m\n\u001b[1;32m      4\u001b[0m \u001b[0mdic\u001b[0m \u001b[0;34m=\u001b[0m \u001b[0;34m{\u001b[0m\u001b[0;34m}\u001b[0m\u001b[0;34m\u001b[0m\u001b[0;34m\u001b[0m\u001b[0m\n\u001b[1;32m      5\u001b[0m \u001b[0;32mfor\u001b[0m \u001b[0mword\u001b[0m \u001b[0;32min\u001b[0m \u001b[0mwords\u001b[0m\u001b[0;34m:\u001b[0m\u001b[0;34m\u001b[0m\u001b[0;34m\u001b[0m\u001b[0m\n",
            "\u001b[0;31mNameError\u001b[0m: name 'sentence' is not defined"
          ]
        }
      ]
    },
    {
      "cell_type": "markdown",
      "source": [
        "13.Convert two lists into a dictionary (keys from list1, values from list2)."
      ],
      "metadata": {
        "id": "PFHAN-xuyO2d"
      }
    },
    {
      "cell_type": "code",
      "source": [
        "list1=[\"Maths\", \"Science\", \"SST\",\"Phyics\"]\n",
        "list2=[30,50,40,56]\n",
        "mydic=dict(zip(list1,list2))\n",
        "print(mydic)"
      ],
      "metadata": {
        "colab": {
          "base_uri": "https://localhost:8080/"
        },
        "id": "EZhUqoJ4yR3X",
        "outputId": "8ffc356c-9a0b-46bc-dc9f-6d7920ada192"
      },
      "execution_count": 24,
      "outputs": [
        {
          "output_type": "stream",
          "name": "stdout",
          "text": [
            "{'Maths': 30, 'Science': 50, 'SST': 40, 'Phyics': 56}\n"
          ]
        }
      ]
    },
    {
      "cell_type": "markdown",
      "source": [
        "14. Write a program to find all keys in dictionary with duplicate values."
      ],
      "metadata": {
        "id": "jVmqoIrZzsAC"
      }
    },
    {
      "cell_type": "code",
      "source": [
        "marks = {'Maths': 30, 'Science': 20, 'Pysics': 30, 'Sports': 25}\n",
        "d = []\n",
        "\n",
        "for key in marks:\n",
        "    v = marks[key]\n",
        "    count = list(marks.values()).count(v)\n",
        "    if count > 1 and key not in d:\n",
        "        d.append(key)\n",
        "\n",
        "print(\"Keys with duplicate values:\", d)"
      ],
      "metadata": {
        "colab": {
          "base_uri": "https://localhost:8080/"
        },
        "id": "I7M1xEmAzIpT",
        "outputId": "8635b90b-333b-4b7f-a9ac-16a6e9eb2eb8"
      },
      "execution_count": 30,
      "outputs": [
        {
          "output_type": "stream",
          "name": "stdout",
          "text": [
            "Keys with duplicate values: ['Maths', 'Pysics']\n"
          ]
        }
      ]
    },
    {
      "cell_type": "markdown",
      "source": [
        "15. Write a program to sort dictionary keys alphabetically."
      ],
      "metadata": {
        "id": "m6O8kA2d5WQd"
      }
    },
    {
      "cell_type": "code",
      "source": [
        "marks = {'Maths': 30, 'Arts': 20, 'Pysics': 30, 'Sports': 25}\n",
        "\n",
        "for key in sorted(marks.keys()):\n",
        "    print(key, \":\", marks[key])\n"
      ],
      "metadata": {
        "colab": {
          "base_uri": "https://localhost:8080/"
        },
        "id": "X_E_ETRP3j8_",
        "outputId": "d0a7892f-7808-4da7-df3c-3b6bc05d6199"
      },
      "execution_count": 32,
      "outputs": [
        {
          "output_type": "stream",
          "name": "stdout",
          "text": [
            "Arts : 20\n",
            "Maths : 30\n",
            "Pysics : 30\n",
            "Sports : 25\n"
          ]
        }
      ]
    },
    {
      "cell_type": "code",
      "source": [],
      "metadata": {
        "id": "XdidsCQl5eY0"
      },
      "execution_count": null,
      "outputs": []
    }
  ]
}