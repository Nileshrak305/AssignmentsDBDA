{
  "nbformat": 4,
  "nbformat_minor": 0,
  "metadata": {
    "colab": {
      "provenance": [],
      "authorship_tag": "ABX9TyNJ9wKlv+P6BacRM58GvdqV",
      "include_colab_link": true
    },
    "kernelspec": {
      "name": "python3",
      "display_name": "Python 3"
    },
    "language_info": {
      "name": "python"
    }
  },
  "cells": [
    {
      "cell_type": "markdown",
      "metadata": {
        "id": "view-in-github",
        "colab_type": "text"
      },
      "source": [
        "<a href=\"https://colab.research.google.com/github/Nileshrak305/AssignmentsDBDA/blob/main/Assignment2.ipynb\" target=\"_parent\"><img src=\"https://colab.research.google.com/assets/colab-badge.svg\" alt=\"Open In Colab\"/></a>"
      ]
    },
    {
      "cell_type": "markdown",
      "source": [
        "1. Write a program to print all characters of `\"Python\"` one by one using a loop."
      ],
      "metadata": {
        "id": "X74LhMlUk_Md"
      }
    },
    {
      "cell_type": "code",
      "execution_count": null,
      "metadata": {
        "colab": {
          "base_uri": "https://localhost:8080/"
        },
        "id": "XOndxKMnjLb-",
        "outputId": "65802f1f-3596-4913-dca2-5c7fb8c34ec5"
      },
      "outputs": [
        {
          "output_type": "stream",
          "name": "stdout",
          "text": [
            "P\n",
            "y\n",
            "t\n",
            "h\n",
            "o\n",
            "n\n"
          ]
        }
      ],
      "source": [
        "str=\"Python\"\n",
        "for i in str:\n",
        "  print(i)"
      ]
    },
    {
      "cell_type": "markdown",
      "source": [
        "2. Check if the word `\"Python\"` exists in the string `\"I am learning Python programming\"`"
      ],
      "metadata": {
        "id": "9U4FgDVKlRD5"
      }
    },
    {
      "cell_type": "code",
      "source": [
        "str=\"I am learning Python programming\"\n",
        "print(\"Python\" in str)\n"
      ],
      "metadata": {
        "colab": {
          "base_uri": "https://localhost:8080/"
        },
        "id": "eqMVfvYBjbgI",
        "outputId": "71ca6e38-7269-4a29-b3c6-2fda193c791b"
      },
      "execution_count": null,
      "outputs": [
        {
          "output_type": "stream",
          "name": "stdout",
          "text": [
            "True\n"
          ]
        }
      ]
    },
    {
      "cell_type": "markdown",
      "source": [
        "3. Take a string input and print its length without using `len()`."
      ],
      "metadata": {
        "id": "xyKeKJa7lVYM"
      }
    },
    {
      "cell_type": "code",
      "source": [
        "str=\"I am learning Python programming\"\n",
        "count=0\n",
        "for i in str:\n",
        "  count+=1\n",
        "print(count)\n"
      ],
      "metadata": {
        "colab": {
          "base_uri": "https://localhost:8080/"
        },
        "id": "zmoc0UUGj2A9",
        "outputId": "9edfa313-7921-46ee-9756-408bfa9beee7"
      },
      "execution_count": null,
      "outputs": [
        {
          "output_type": "stream",
          "name": "stdout",
          "text": [
            "32\n"
          ]
        }
      ]
    },
    {
      "cell_type": "markdown",
      "source": [
        "4. Write a program to count the number of uppercase and lowercase letters in `\"Hello World\"`."
      ],
      "metadata": {
        "id": "7HWeYeTXmGK8"
      }
    },
    {
      "cell_type": "code",
      "source": [
        "str=\"I am learning Python programming\"\n",
        "countup=0\n",
        "countdown=0\n",
        "for i in str:\n",
        "  if i.isupper():\n",
        "    countup+=1\n",
        "  elif i.islower():\n",
        "    countdown+=1\n",
        "print(f\"Number of Uppercase {countup} and Number of Lowercase {countdown}\")\n"
      ],
      "metadata": {
        "colab": {
          "base_uri": "https://localhost:8080/"
        },
        "id": "tmfTOfD5lx1y",
        "outputId": "fd120bb9-41bc-4c39-a0c8-cf703ac328ce"
      },
      "execution_count": null,
      "outputs": [
        {
          "output_type": "stream",
          "name": "stdout",
          "text": [
            "Number of Uppercase 2 and Number of Lowercase 26\n"
          ]
        }
      ]
    },
    {
      "cell_type": "markdown",
      "source": [
        "5. Take a string and replace all occurrences of `\"Java\"` with `\"Python\"`.\n"
      ],
      "metadata": {
        "id": "FABCe1tCnqQV"
      }
    },
    {
      "cell_type": "code",
      "source": [
        "str=\"Java\"\n",
        "print(str.replace(\"Java\",\"Python\"))"
      ],
      "metadata": {
        "colab": {
          "base_uri": "https://localhost:8080/"
        },
        "id": "Tq4YFw5EnBNn",
        "outputId": "5936dd27-25a0-4785-ddb9-a592412fc7c4"
      },
      "execution_count": null,
      "outputs": [
        {
          "output_type": "stream",
          "name": "stdout",
          "text": [
            "Python\n"
          ]
        }
      ]
    },
    {
      "cell_type": "markdown",
      "source": [
        "6. Write a program that checks if a string starts with `\"Py\"` and ends with `\"on\"`"
      ],
      "metadata": {
        "id": "pqcNoPhmpGpA"
      }
    },
    {
      "cell_type": "code",
      "source": [
        "str=\"Python\"\n",
        "print(str.startswith(\"Py\") and str.endswith(\"on\") )\n"
      ],
      "metadata": {
        "colab": {
          "base_uri": "https://localhost:8080/"
        },
        "id": "hKRKbO4Kn5a0",
        "outputId": "eb69c1a2-6d47-4764-d979-635f8c777c8d"
      },
      "execution_count": null,
      "outputs": [
        {
          "output_type": "stream",
          "name": "stdout",
          "text": [
            "True\n"
          ]
        }
      ]
    },
    {
      "cell_type": "markdown",
      "source": [
        "7. Create a tuple `(100, 200, 300, 400)` and slice the first three elements."
      ],
      "metadata": {
        "id": "Ip37TJdtsU4Z"
      }
    },
    {
      "cell_type": "code",
      "source": [
        "t=(100,200,300,400)\n",
        "print(t[:3])"
      ],
      "metadata": {
        "colab": {
          "base_uri": "https://localhost:8080/"
        },
        "id": "GijilKceqavl",
        "outputId": "d81ac93a-9bf7-477e-90c1-5ae9957c6222"
      },
      "execution_count": null,
      "outputs": [
        {
          "output_type": "stream",
          "name": "stdout",
          "text": [
            "(100, 200, 300)\n"
          ]
        }
      ]
    },
    {
      "cell_type": "markdown",
      "source": [
        "8. Write a program to iterate through a tuple and print each element."
      ],
      "metadata": {
        "id": "gBAxU6wWuUtX"
      }
    },
    {
      "cell_type": "code",
      "source": [
        "t=(\"Bhavya\", \"Nilesh\", \"Nishant\", \"Ganesh\", True, 1, [\"Allu\", \"Dhaniya\", \"Pyaj\"])\n",
        "for i in t:\n",
        "  print(i)"
      ],
      "metadata": {
        "colab": {
          "base_uri": "https://localhost:8080/"
        },
        "id": "HHVPS_RUrFXA",
        "outputId": "16724418-5e11-4757-f4c0-131d61b8d229"
      },
      "execution_count": null,
      "outputs": [
        {
          "output_type": "stream",
          "name": "stdout",
          "text": [
            "Bhavya\n",
            "Nilesh\n",
            "Nishant\n",
            "Ganesh\n",
            "True\n",
            "1\n",
            "['Allu', 'Dhaniya', 'Pyaj']\n"
          ]
        }
      ]
    },
    {
      "cell_type": "markdown",
      "source": [
        "9. Create a nested tuple and access the innermost element."
      ],
      "metadata": {
        "id": "NlGvMvZ7vE0H"
      }
    },
    {
      "cell_type": "code",
      "source": [
        "t=(\"Nilesh\", \"Bhavya\",(\"Nishant\", \"Ganesh\"), True)\n",
        "print(t[2][1])"
      ],
      "metadata": {
        "colab": {
          "base_uri": "https://localhost:8080/"
        },
        "id": "6JFUVNMGufXw",
        "outputId": "da77b84b-e649-4a22-a028-4ff45d4bc4ed"
      },
      "execution_count": null,
      "outputs": [
        {
          "output_type": "stream",
          "name": "stdout",
          "text": [
            "Ganesh\n"
          ]
        }
      ]
    },
    {
      "cell_type": "markdown",
      "source": [
        "10. Take two tuples `(1, 2, 3)` and `(4, 5, 6)` and merge them into a single tuple."
      ],
      "metadata": {
        "id": "hVmzP9yPwUEU"
      }
    },
    {
      "cell_type": "code",
      "source": [
        "t1=(1,2,3)\n",
        "t2=(4,5,6)\n",
        "t3=(t1+t2)\n",
        "print(t3)"
      ],
      "metadata": {
        "colab": {
          "base_uri": "https://localhost:8080/"
        },
        "id": "DV5LgCeGvvPr",
        "outputId": "cc74af9a-6d27-496e-c7b5-380d3aea19d9"
      },
      "execution_count": null,
      "outputs": [
        {
          "output_type": "stream",
          "name": "stdout",
          "text": [
            "(1, 2, 3, 4, 5, 6)\n"
          ]
        }
      ]
    },
    {
      "cell_type": "code",
      "source": [
        "t1=(1,2,3)\n",
        "t2=(4,5,6)\n",
        "t3=(t1,t2)\n"
      ],
      "metadata": {
        "id": "lTcpTSs7xFRP"
      },
      "execution_count": null,
      "outputs": []
    },
    {
      "cell_type": "markdown",
      "source": [
        "11. Write a program to find maximum and minimum values from the tuple `(10, 25, 3, 40, 5)`."
      ],
      "metadata": {
        "id": "bHSpH8lCxgfR"
      }
    },
    {
      "cell_type": "code",
      "source": [
        "t=(10, 25, 3, 40, 5)\n",
        "t2=sorted(t)\n",
        "print(\"Minimum \",t2[0])\n",
        "print(\"Maximum \",t2[4])\n",
        "\n",
        "t3=min(t)\n",
        "t4=max(t)\n",
        "print(\"Minimum \",t3)\n",
        "print(\"Maximum \",t4)"
      ],
      "metadata": {
        "colab": {
          "base_uri": "https://localhost:8080/"
        },
        "id": "MxVrhidmxoJf",
        "outputId": "58cbf840-42d9-4da5-e66b-2db228e71959"
      },
      "execution_count": null,
      "outputs": [
        {
          "output_type": "stream",
          "name": "stdout",
          "text": [
            "Minimum  3\n",
            "Maximum  40\n",
            "Minimum  3\n",
            "Maximum  40\n"
          ]
        }
      ]
    },
    {
      "cell_type": "markdown",
      "source": [
        "12. Create a set `{10, 20, 30}` and check if `40` exists in it.\n"
      ],
      "metadata": {
        "id": "VucdIBktztmN"
      }
    },
    {
      "cell_type": "code",
      "source": [
        "a={10,20,30}\n",
        "print(40 in a)"
      ],
      "metadata": {
        "colab": {
          "base_uri": "https://localhost:8080/"
        },
        "id": "RW2PL1TpycUz",
        "outputId": "96d40f26-4821-4d27-f988-917c26e2059b"
      },
      "execution_count": null,
      "outputs": [
        {
          "output_type": "stream",
          "name": "stdout",
          "text": [
            "False\n"
          ]
        }
      ]
    },
    {
      "cell_type": "markdown",
      "source": [
        "13. Write a program to remove a random element from set `{1, 2, 3, 4, 5}` using `pop()`."
      ],
      "metadata": {
        "id": "TGykhi6p1jrT"
      }
    },
    {
      "cell_type": "code",
      "source": [
        "s1={1, 2, 3, 4, 5}\n",
        "print(s1.pop())\n"
      ],
      "metadata": {
        "colab": {
          "base_uri": "https://localhost:8080/"
        },
        "id": "t8pZ7uXW0CWa",
        "outputId": "3a8966ab-2776-44f9-9283-a6ece782b570"
      },
      "execution_count": null,
      "outputs": [
        {
          "output_type": "stream",
          "name": "stdout",
          "text": [
            "1\n"
          ]
        }
      ]
    },
    {
      "cell_type": "markdown",
      "source": [
        "14. Find the difference between sets `{1, 2, 3, 4}` and `{3, 4, 5, 6}`."
      ],
      "metadata": {
        "id": "sLmsVEqU2DzG"
      }
    },
    {
      "cell_type": "code",
      "source": [
        "t1={1, 2, 3, 4}\n",
        "t2={3, 4, 5, 6}\n",
        "print(t1-t2)"
      ],
      "metadata": {
        "colab": {
          "base_uri": "https://localhost:8080/"
        },
        "id": "h2O7sUPv1v6K",
        "outputId": "8e2f9e04-7151-4733-ef25-e2dccd3f9ccb"
      },
      "execution_count": null,
      "outputs": [
        {
          "output_type": "stream",
          "name": "stdout",
          "text": [
            "{1, 2}\n"
          ]
        }
      ]
    },
    {
      "cell_type": "markdown",
      "source": [
        "15. Write a program to check if two sets `{1, 2}` and `{3, 4}` are disjoint."
      ],
      "metadata": {
        "id": "dHugvoyN2PTL"
      }
    },
    {
      "cell_type": "code",
      "source": [
        "a={1,2,}\n",
        "b={3,4}\n",
        "print(a.isdisjoint(b))"
      ],
      "metadata": {
        "colab": {
          "base_uri": "https://localhost:8080/"
        },
        "id": "XJ-GgtN62MO1",
        "outputId": "c56e64b7-27d2-45a7-fe69-3fbb3f1d2287"
      },
      "execution_count": null,
      "outputs": [
        {
          "output_type": "stream",
          "name": "stdout",
          "text": [
            "False\n"
          ]
        }
      ]
    },
    {
      "cell_type": "code",
      "source": [],
      "metadata": {
        "id": "b6yGUfJZ2ZtU"
      },
      "execution_count": null,
      "outputs": []
    }
  ]
}